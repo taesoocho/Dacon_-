{
 "cells": [
  {
   "cell_type": "code",
   "execution_count": 1,
   "metadata": {},
   "outputs": [],
   "source": [
    "import requests\n",
    "import json\n",
    "import pandas as pd"
   ]
  },
  {
   "cell_type": "code",
   "execution_count": 5,
   "metadata": {},
   "outputs": [],
   "source": [
    "def getHolidays(year,month,key):\n",
    "    url = 'http://apis.data.go.kr/B090041/openapi/service/SpcdeInfoService/getRestDeInfo'\n",
    "\n",
    "    params = {\n",
    "        'solYear':str(year),\n",
    "        'solMonth':str(month).zfill(2),\n",
    "        '_type':'json',\n",
    "        'ServiceKey' : key\n",
    "    }\n",
    "\n",
    "    res = requests.get(url,params=params)\n",
    "    dic = json.loads(res.text)\n",
    "    counts = dic['response']['body']['totalCount']\n",
    "\n",
    "    if counts < 1 :\n",
    "        return []\n",
    "\n",
    "    item =  dic['response']['body']['items']['item']\n",
    "\n",
    "    if counts == 1:\n",
    "        return [item]\n",
    "\n",
    "    return item"
   ]
  },
  {
   "cell_type": "code",
   "execution_count": 6,
   "metadata": {},
   "outputs": [],
   "source": [
    "holidays =[]\n",
    "for year in range(2021,2023):\n",
    "    for month in range(1,13):\n",
    "        holidays.extend(getHolidays(year,month,AUTH_KEY))"
   ]
  },
  {
   "cell_type": "code",
   "execution_count": 7,
   "metadata": {},
   "outputs": [],
   "source": [
    "holiday_df = pd.DataFrame(holidays,columns=['locdate','dateName'])\n",
    "holiday_df.to_csv('./holiday.csv', encoding = 'utf-8-sig', index = None)"
   ]
  }
 ],
 "metadata": {
  "interpreter": {
   "hash": "73407dee87cc73a13fe6a424f5d316f883ddf267c66cfaad22110334c7428349"
  },
  "kernelspec": {
   "display_name": "Python 3.8.12 ('dev_project')",
   "language": "python",
   "name": "python3"
  },
  "language_info": {
   "codemirror_mode": {
    "name": "ipython",
    "version": 3
   },
   "file_extension": ".py",
   "mimetype": "text/x-python",
   "name": "python",
   "nbconvert_exporter": "python",
   "pygments_lexer": "ipython3",
   "version": "3.8.12"
  },
  "orig_nbformat": 4
 },
 "nbformat": 4,
 "nbformat_minor": 2
}
