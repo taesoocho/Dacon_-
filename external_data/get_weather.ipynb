{
 "cells": [
  {
   "cell_type": "code",
   "execution_count": 16,
   "metadata": {},
   "outputs": [],
   "source": [
    "import requests\n",
    "import json\n",
    "import pandas as pd\n",
    "from datetime import datetime, timedelta"
   ]
  },
  {
   "cell_type": "code",
   "execution_count": 17,
   "metadata": {},
   "outputs": [],
   "source": [
    "def date_range(start, end):\n",
    "    start = datetime.strptime(start, \"%Y%m%d\")\n",
    "    end = datetime.strptime(end, \"%Y%m%d\")\n",
    "    dates = [(start + timedelta(days=i)).strftime(\"%Y%m%d\") for i in range((end-start).days+1)]\n",
    "    return dates\n",
    "\n",
    "dates = date_range(\"20190801\", \"20220731\")"
   ]
  },
  {
   "cell_type": "code",
   "execution_count": 18,
   "metadata": {},
   "outputs": [],
   "source": [
    "AUTH_KEY = 'aU1w0v96iPjc398MIHS82Q6/fOhoZfeIg4ugUBHFagbKALzb4jcV66srdi8uG9TcW26oM4zOy84/F6ZgRnV/4Q=='"
   ]
  },
  {
   "cell_type": "code",
   "execution_count": 19,
   "metadata": {},
   "outputs": [],
   "source": [
    "def getWeather(date, key):\n",
    "    url = 'http://apis.data.go.kr/1360000/AsosDalyInfoService/getWthrDataList'\n",
    "\n",
    "    params = {\n",
    "        'serviceKey' : key,\n",
    "        'dataType' : 'JSON',\n",
    "        'startDt' : date,\n",
    "        'endDt' : date,\n",
    "        'stnIds' : '184',\n",
    "        'dataCd' : 'ASOS',\n",
    "        'dateCd' : 'DAY'\n",
    "    }\n",
    "\n",
    "    res = requests.get(url,params=params)\n",
    "    dic = json.loads(res.text)\n",
    "    item =  dic['response']['body']['items']['item']\n",
    "\n",
    "    return item"
   ]
  },
  {
   "cell_type": "code",
   "execution_count": 20,
   "metadata": {},
   "outputs": [],
   "source": [
    "weather_list =[]\n",
    "for date in dates:\n",
    "    weather_list.extend(getWeather(date, AUTH_KEY))"
   ]
  },
  {
   "cell_type": "code",
   "execution_count": 21,
   "metadata": {},
   "outputs": [],
   "source": [
    "weather_df = pd.DataFrame(weather_list, columns=['stnId', 'stnNm', 'tm', 'avgTa', 'minTa', 'minTaHrmt', 'maxTa', 'maxTaHrmt', 'mi10MaxRn', \\\n",
    "  'mi10MaxRnHrmt', 'hr1MaxRn', 'hr1MaxRnHrmt', 'sumRnDur', 'sumRn', 'maxInsWs', 'maxInsWsWd', 'maxInsWsHrmt', \\\n",
    "  'maxWs', 'maxWsWd', 'maxWsHrmt', 'avgWs', 'hr24SumRws', 'maxWd', 'avgTd', 'minRhm', 'minRhmHrmt', \\\n",
    "  'avgRhm', 'avgPv', 'avgPa', 'maxPs', 'maxPsHrmt', 'minPs', 'minPsHrmt', 'avgPs', 'ssDur', 'sumSsHr', \\\n",
    "  'hr1MaxIcsrHrmt', 'hr1MaxIcsr', 'sumGsr', 'ddMefs', 'ddMefsHrmt', 'ddMes', 'ddMesHrmt', 'sumDpthFhsc', \\\n",
    "  'avgTca', 'avgLmac', 'avgTs', 'minTg', 'avgCm5Te', 'avgCm10Te', 'avgCm20Te', 'avgCm30Te', 'avgM05Te', \\\n",
    "  'avgM10Te', 'avgM15Te', 'avgM30Te', 'avgM50Te', 'sumLrgEv', 'sumSmlEv', 'n99Rn', 'iscs', 'sumFogDur']\n",
    ")"
   ]
  },
  {
   "cell_type": "code",
   "execution_count": 22,
   "metadata": {},
   "outputs": [],
   "source": [
    "weather_df.to_csv('./weather.csv', encoding = 'utf-8-sig')"
   ]
  },
  {
   "cell_type": "markdown",
   "metadata": {},
   "source": [
    "tm : 시간  \n",
    "avgTa : 평균 기온  \n",
    "minTa : 최저 기온  \n",
    "maxTa : 최고 기온  \n",
    "sumRnDur : 강수 계속시간  \n",
    "sumRn : 일강수량  \n",
    "avgWs : 평균 풍속  \n",
    "ddMes : 일 최심적설  \n",
    "avgTca : 평균 전운량  \n",
    "sumFogDur : 안개 계속 시간  "
   ]
  },
  {
   "cell_type": "code",
   "execution_count": null,
   "metadata": {},
   "outputs": [],
   "source": [
    "temp_weather_df = weather_df.copy()"
   ]
  },
  {
   "cell_type": "code",
   "execution_count": 25,
   "metadata": {},
   "outputs": [],
   "source": [
    "temp_weather_df = temp_weather_df[['tm', 'avgTa', 'minTa', 'maxTa', 'sumRnDur', 'sumRn', 'avgWs', 'ddMes', 'avgTca', 'sumFogDur']]\n",
    "temp_weather_df = temp_weather_df.replace('', 0)\n",
    "temp_weather_df = temp_weather_df.apply(pd.to_numeric)"
   ]
  },
  {
   "cell_type": "code",
   "execution_count": 32,
   "metadata": {},
   "outputs": [],
   "source": [
    "temp_weather_df['tm'] = pd.to_datetime(temp_weather_df['tm'])\n",
    "temp_weather_df['month'] = temp_weather_df['tm'].dt.month\n",
    "temp_weather_df['day'] = temp_weather_df['tm'].dt.day\n",
    "temp_weather_df = temp_weather_df.drop('tm', axis = 1)"
   ]
  },
  {
   "cell_type": "code",
   "execution_count": 64,
   "metadata": {},
   "outputs": [],
   "source": [
    "grouped_weather_df = temp_weather_df.groupby(['month', 'day'])\n",
    "grouped_weather_df_mean = pd.DataFrame(grouped_weather_df.mean()).reset_index()\n",
    "grouped_weather_df_mean"
   ]
  },
  {
   "cell_type": "code",
   "execution_count": 71,
   "metadata": {},
   "outputs": [],
   "source": [
    "grouped_weather_df_mean.to_csv('./weather_last3.csv', encoding = 'utf-8-sig')"
   ]
  }
 ],
 "metadata": {
  "interpreter": {
   "hash": "73407dee87cc73a13fe6a424f5d316f883ddf267c66cfaad22110334c7428349"
  },
  "kernelspec": {
   "display_name": "Python 3.8.12 ('dev_project')",
   "language": "python",
   "name": "python3"
  },
  "language_info": {
   "codemirror_mode": {
    "name": "ipython",
    "version": 3
   },
   "file_extension": ".py",
   "mimetype": "text/x-python",
   "name": "python",
   "nbconvert_exporter": "python",
   "pygments_lexer": "ipython3",
   "version": "3.8.12"
  },
  "orig_nbformat": 4
 },
 "nbformat": 4,
 "nbformat_minor": 2
}
