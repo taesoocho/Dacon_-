{
 "cells": [
  {
   "cell_type": "code",
   "execution_count": 1,
   "metadata": {},
   "outputs": [],
   "source": [
    "import numpy as np\n",
    "import pandas as pd\n",
    "import matplotlib as mpl\n",
    "import matplotlib.pyplot as plt\n",
    "from matplotlib import gridspec\n",
    "import matplotlib.font_manager as fm\n",
    "import seaborn as sns\n",
    "import warnings\n",
    "from scipy.special import boxcox1p, inv_boxcox1p\n",
    "\n",
    "pd.options.display.float_format = '{:.5f}'.format\n",
    "fontpath = 'C:/Users/TaeSoo/AppData/Local/Microsoft/Windows/Fonts/NanumGothic.ttf'\n",
    "%matplotlib inline\n",
    "warnings.filterwarnings(action='ignore')\n",
    "\n",
    "plt.rcParams['figure.dpi'] = 140\n",
    "plt.rcParams['font.family'] = 'NanumGothic'"
   ]
  },
  {
   "cell_type": "code",
   "execution_count": 3,
   "metadata": {},
   "outputs": [],
   "source": [
    "train = pd.read_csv('../원본데이터/train.csv')\n",
    "test = pd.read_csv('../원본데이터/test.csv')"
   ]
  },
  {
   "cell_type": "code",
   "execution_count": 4,
   "metadata": {},
   "outputs": [],
   "source": [
    "train_df = train.copy()\n",
    "test_df = test.copy()"
   ]
  },
  {
   "cell_type": "code",
   "execution_count": 7,
   "metadata": {},
   "outputs": [],
   "source": [
    "dataset = pd.concat([train_df, test_df], axis = 0)"
   ]
  },
  {
   "cell_type": "code",
   "execution_count": 9,
   "metadata": {},
   "outputs": [],
   "source": [
    "na_df = dataset[dataset['road_name'] == '-']"
   ]
  },
  {
   "cell_type": "code",
   "execution_count": 11,
   "metadata": {},
   "outputs": [
    {
     "data": {
      "text/html": [
       "<div>\n",
       "<style scoped>\n",
       "    .dataframe tbody tr th:only-of-type {\n",
       "        vertical-align: middle;\n",
       "    }\n",
       "\n",
       "    .dataframe tbody tr th {\n",
       "        vertical-align: top;\n",
       "    }\n",
       "\n",
       "    .dataframe thead th {\n",
       "        text-align: right;\n",
       "    }\n",
       "</style>\n",
       "<table border=\"1\" class=\"dataframe\">\n",
       "  <thead>\n",
       "    <tr style=\"text-align: right;\">\n",
       "      <th></th>\n",
       "      <th>start_latitude</th>\n",
       "      <th>start_longitude</th>\n",
       "      <th>end_latitude</th>\n",
       "      <th>end_longitude</th>\n",
       "      <th>count</th>\n",
       "    </tr>\n",
       "  </thead>\n",
       "  <tbody>\n",
       "    <tr>\n",
       "      <th>0</th>\n",
       "      <td>33.24343</td>\n",
       "      <td>126.42203</td>\n",
       "      <td>33.24488</td>\n",
       "      <td>126.41909</td>\n",
       "      <td>6221</td>\n",
       "    </tr>\n",
       "    <tr>\n",
       "      <th>1</th>\n",
       "      <td>33.24488</td>\n",
       "      <td>126.41909</td>\n",
       "      <td>33.24343</td>\n",
       "      <td>126.42203</td>\n",
       "      <td>6325</td>\n",
       "    </tr>\n",
       "    <tr>\n",
       "      <th>2</th>\n",
       "      <td>33.24488</td>\n",
       "      <td>126.41909</td>\n",
       "      <td>33.24586</td>\n",
       "      <td>126.41764</td>\n",
       "      <td>5963</td>\n",
       "    </tr>\n",
       "    <tr>\n",
       "      <th>3</th>\n",
       "      <td>33.24586</td>\n",
       "      <td>126.41764</td>\n",
       "      <td>33.24488</td>\n",
       "      <td>126.41909</td>\n",
       "      <td>6086</td>\n",
       "    </tr>\n",
       "    <tr>\n",
       "      <th>4</th>\n",
       "      <td>33.24586</td>\n",
       "      <td>126.41764</td>\n",
       "      <td>33.24615</td>\n",
       "      <td>126.41721</td>\n",
       "      <td>5963</td>\n",
       "    </tr>\n",
       "    <tr>\n",
       "      <th>...</th>\n",
       "      <td>...</td>\n",
       "      <td>...</td>\n",
       "      <td>...</td>\n",
       "      <td>...</td>\n",
       "      <td>...</td>\n",
       "    </tr>\n",
       "    <tr>\n",
       "      <th>119</th>\n",
       "      <td>33.47339</td>\n",
       "      <td>126.40913</td>\n",
       "      <td>33.47228</td>\n",
       "      <td>126.41844</td>\n",
       "      <td>5344</td>\n",
       "    </tr>\n",
       "    <tr>\n",
       "      <th>120</th>\n",
       "      <td>33.47545</td>\n",
       "      <td>126.38819</td>\n",
       "      <td>33.47116</td>\n",
       "      <td>126.39515</td>\n",
       "      <td>5330</td>\n",
       "    </tr>\n",
       "    <tr>\n",
       "      <th>121</th>\n",
       "      <td>33.48526</td>\n",
       "      <td>126.41090</td>\n",
       "      <td>33.47228</td>\n",
       "      <td>126.41844</td>\n",
       "      <td>5190</td>\n",
       "    </tr>\n",
       "    <tr>\n",
       "      <th>122</th>\n",
       "      <td>33.55159</td>\n",
       "      <td>126.76939</td>\n",
       "      <td>33.55608</td>\n",
       "      <td>126.75973</td>\n",
       "      <td>3107</td>\n",
       "    </tr>\n",
       "    <tr>\n",
       "      <th>123</th>\n",
       "      <td>33.55608</td>\n",
       "      <td>126.75973</td>\n",
       "      <td>33.55159</td>\n",
       "      <td>126.76939</td>\n",
       "      <td>3266</td>\n",
       "    </tr>\n",
       "  </tbody>\n",
       "</table>\n",
       "<p>124 rows × 5 columns</p>\n",
       "</div>"
      ],
      "text/plain": [
       "     start_latitude  start_longitude  end_latitude  end_longitude  count\n",
       "0          33.24343        126.42203      33.24488      126.41909   6221\n",
       "1          33.24488        126.41909      33.24343      126.42203   6325\n",
       "2          33.24488        126.41909      33.24586      126.41764   5963\n",
       "3          33.24586        126.41764      33.24488      126.41909   6086\n",
       "4          33.24586        126.41764      33.24615      126.41721   5963\n",
       "..              ...              ...           ...            ...    ...\n",
       "119        33.47339        126.40913      33.47228      126.41844   5344\n",
       "120        33.47545        126.38819      33.47116      126.39515   5330\n",
       "121        33.48526        126.41090      33.47228      126.41844   5190\n",
       "122        33.55159        126.76939      33.55608      126.75973   3107\n",
       "123        33.55608        126.75973      33.55159      126.76939   3266\n",
       "\n",
       "[124 rows x 5 columns]"
      ]
     },
     "execution_count": 11,
     "metadata": {},
     "output_type": "execute_result"
    }
   ],
   "source": [
    "na_road_name_df = pd.DataFrame({'count' : na_df.groupby(['start_latitude', 'start_longitude', 'end_latitude', 'end_longitude']).size()}).reset_index()\n",
    "na_road_name_df"
   ]
  },
  {
   "cell_type": "code",
   "execution_count": 12,
   "metadata": {},
   "outputs": [],
   "source": [
    "from geopy.geocoders import Nominatim"
   ]
  },
  {
   "cell_type": "code",
   "execution_count": 13,
   "metadata": {},
   "outputs": [],
   "source": [
    "def geocoding_reverse(lat_lng_str): \n",
    "    geolocoder = Nominatim(user_agent = 'South Korea', timeout=None)\n",
    "    address = geolocoder.reverse(lat_lng_str)\n",
    "\n",
    "    return address"
   ]
  },
  {
   "cell_type": "code",
   "execution_count": 14,
   "metadata": {},
   "outputs": [],
   "source": [
    "def searching_suburb(df, latitude, longitude) :\n",
    "    real_suburb_Name = []\n",
    "    for idx in range(len(df)) :\n",
    "        real_suburb_Name.append(geocoding_reverse(str(df.loc[idx, latitude]) + ', ' + str(df.loc[idx, longitude])))\n",
    "    return real_suburb_Name"
   ]
  },
  {
   "cell_type": "code",
   "execution_count": 15,
   "metadata": {},
   "outputs": [],
   "source": [
    "def making_address_col (address) :\n",
    "    country = []\n",
    "    post_code = []\n",
    "    state = []\n",
    "    city = []\n",
    "    suburb = []\n",
    "    street_address = []\n",
    "\n",
    "    for idx in range(len(address)) :\n",
    "        temp_address_list = address[idx][0].split(', ')\n",
    "        country.append(temp_address_list[-1])\n",
    "\n",
    "        if temp_address_list[-2].isdigit() == True :\n",
    "            post_code.append(temp_address_list[-2])\n",
    "            state.append(temp_address_list[-3])\n",
    "            if len(temp_address_list) == 4 :\n",
    "                city.append(temp_address_list[-4])\n",
    "                suburb.append(np.nan)\n",
    "                street_address.append(np.nan)\n",
    "            elif len(temp_address_list) == 5 :\n",
    "                city.append(temp_address_list[-4])\n",
    "                suburb.append(temp_address_list[-5])\n",
    "                street_address.append(np.nan)                \n",
    "            else :\n",
    "                city.append(temp_address_list[-4])\n",
    "                suburb.append(temp_address_list[-5])\n",
    "                street_address.append(temp_address_list[-6])  \n",
    "\n",
    "        else :\n",
    "            post_code.append(np.nan)\n",
    "            state.append(temp_address_list[-2])\n",
    "            if len(temp_address_list) == 3 :\n",
    "                city.append(temp_address_list[-3])\n",
    "                suburb.append(np.nan)\n",
    "                street_address.append(np.nan)\n",
    "            elif len(temp_address_list) == 4 :\n",
    "                city.append(temp_address_list[-3])\n",
    "                suburb.append(temp_address_list[-4])\n",
    "                street_address.append(np.nan)                \n",
    "            else :\n",
    "                city.append(temp_address_list[-3])\n",
    "                suburb.append(temp_address_list[-4])\n",
    "                street_address.append(temp_address_list[-5])  \n",
    "\n",
    "    address_df = pd.DataFrame(data = list(zip(country, post_code, city, suburb, street_address)), columns = ['country', 'post_code', 'city', 'suburb', 'street_address'])\n",
    "    return address_df"
   ]
  },
  {
   "cell_type": "code",
   "execution_count": 16,
   "metadata": {},
   "outputs": [],
   "source": [
    "start_address = searching_suburb(na_road_name_df, 'start_latitude', 'start_longitude')\n",
    "end_address = searching_suburb(na_road_name_df, 'end_latitude', 'end_longitude')"
   ]
  },
  {
   "cell_type": "code",
   "execution_count": 17,
   "metadata": {},
   "outputs": [],
   "source": [
    "start_address_df = making_address_col(start_address)\n",
    "end_address_df = making_address_col(end_address)"
   ]
  },
  {
   "cell_type": "code",
   "execution_count": 18,
   "metadata": {},
   "outputs": [],
   "source": [
    "road_df = pd.concat([start_address_df[['suburb', 'street_address']], end_address_df[['suburb', 'street_address']]], axis = 1)\n",
    "road_df.columns = ['start_suburb', 'start_street', 'end_suburb', 'end_street']"
   ]
  },
  {
   "cell_type": "code",
   "execution_count": 19,
   "metadata": {},
   "outputs": [],
   "source": [
    "geo_road_df = pd.concat([na_road_name_df[['start_latitude', 'start_longitude', 'end_latitude', 'end_longitude']], road_df[['start_suburb', 'start_street', 'end_suburb', 'end_street']]], axis = 1)\n",
    "geo_road_df['road_by_suburb'] = np.nan\n",
    "geo_road_df['road_by_street'] = np.nan"
   ]
  },
  {
   "cell_type": "code",
   "execution_count": 20,
   "metadata": {},
   "outputs": [],
   "source": [
    "geo_road_df.loc[(geo_road_df['start_suburb'] == geo_road_df['end_suburb']) & (geo_road_df['start_suburb'].str[-1] == '로'), 'road_by_suburb'] = geo_road_df['start_suburb']\n",
    "geo_road_df.loc[(geo_road_df['start_suburb'].str[-1] == '로') & (geo_road_df['end_suburb'].str[-1] != '로'), 'road_by_suburb'] = geo_road_df['start_suburb']\n",
    "geo_road_df.loc[(geo_road_df['start_suburb'].str[-1] != '로') & (geo_road_df['end_suburb'].str[-1] == '로'), 'road_by_suburb'] = geo_road_df['end_suburb']\n",
    "\n",
    "geo_road_df.loc[(geo_road_df['start_street'] == geo_road_df['end_street']) & (geo_road_df['start_street'].str[-1] == '로'), 'road_by_street'] = geo_road_df['start_street']\n",
    "geo_road_df.loc[(geo_road_df['start_street'].str[-1] == '로') & (geo_road_df['end_street'].str[-1] != '로'), 'road_by_street'] = geo_road_df['start_street']\n",
    "geo_road_df.loc[(geo_road_df['start_street'].str[-1] != '로') & (geo_road_df['end_street'].str[-1] == '로'), 'road_by_street'] = geo_road_df['end_street']"
   ]
  },
  {
   "cell_type": "code",
   "execution_count": 21,
   "metadata": {},
   "outputs": [],
   "source": [
    "geo_road_df['road_name'] = np.nan\n",
    "\n",
    "geo_road_df.loc[geo_road_df['road_by_suburb'] == geo_road_df['road_by_street'], 'road_name'] = geo_road_df['road_by_suburb']\n",
    "geo_road_df.loc[(geo_road_df['road_by_suburb'].isnull()) & (geo_road_df['road_by_street'].notnull()), 'road_name'] = geo_road_df['road_by_street']\n",
    "geo_road_df.loc[(geo_road_df['road_by_suburb'].notnull()) & (geo_road_df['road_by_street'].isnull()), 'road_name'] = geo_road_df['road_by_suburb']\n",
    "\n",
    "geo_road_df = geo_road_df.drop(['road_by_suburb', 'road_by_street'], axis = 1)"
   ]
  },
  {
   "cell_type": "code",
   "execution_count": 23,
   "metadata": {},
   "outputs": [],
   "source": [
    "geo_road_df.loc[[10, 11], 'road_name'] = '천제연로'\n",
    "geo_road_df.loc[[i for i in range(14, 20)], 'road_name'] = '지방도1132호선'\n",
    "geo_road_df.loc[[23, 35], 'road_name'] = '위미항구로'\n",
    "geo_road_df.loc[[27, 28], 'road_name'] = '지방도1131호선'\n",
    "geo_road_df.loc[[36, 37], 'road_name'] = '지방도1119호선'\n",
    "geo_road_df.loc[[52, 53], 'road_name'] = '지방도1136호선'\n",
    "geo_road_df.loc[[54, 55, 56, 73], 'road_name'] = '난산로'\n",
    "geo_road_df.loc[[57, 59, 62, 63, 72, 78, 79, 88], 'road_name'] = '한림상로'\n",
    "geo_road_df.loc[[71, 74, 75, 76, 77, 80, 83, 84], 'road_name'] = '한림해안로'\n",
    "geo_road_df.loc[[94, 95], 'road_name'] = '한수풀로'\n",
    "geo_road_df.loc[101, 'road_name'] = '고성오조로'\n",
    "geo_road_df.loc[[115, 121], 'road_name'] = '하광로'\n",
    "geo_road_df.loc[[122, 123], 'road_name'] = '김녕로'"
   ]
  },
  {
   "cell_type": "code",
   "execution_count": 26,
   "metadata": {},
   "outputs": [],
   "source": [
    "geo_road_df = geo_road_df.drop(['start_suburb', 'start_street', 'end_suburb', 'end_street'], axis = 1)\n",
    "geo_road_df = geo_road_df.rename(columns = {'road_name': 'pre_road_name'})"
   ]
  },
  {
   "cell_type": "code",
   "execution_count": 27,
   "metadata": {},
   "outputs": [],
   "source": [
    "geo_road_df.to_csv('road_naming.csv', encoding = 'utf-8-sig')"
   ]
  }
 ],
 "metadata": {
  "interpreter": {
   "hash": "73407dee87cc73a13fe6a424f5d316f883ddf267c66cfaad22110334c7428349"
  },
  "kernelspec": {
   "display_name": "Python 3.8.12 ('dev_project')",
   "language": "python",
   "name": "python3"
  },
  "language_info": {
   "codemirror_mode": {
    "name": "ipython",
    "version": 3
   },
   "file_extension": ".py",
   "mimetype": "text/x-python",
   "name": "python",
   "nbconvert_exporter": "python",
   "pygments_lexer": "ipython3",
   "version": "3.8.12"
  },
  "orig_nbformat": 4
 },
 "nbformat": 4,
 "nbformat_minor": 2
}
